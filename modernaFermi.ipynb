{
 "cells": [
  {
   "cell_type": "code",
   "execution_count": 59,
   "metadata": {},
   "outputs": [],
   "source": [
    "import numpy as np\n",
    "import matplotlib.pyplot as plt"
   ]
  },
  {
   "cell_type": "code",
   "execution_count": 66,
   "metadata": {},
   "outputs": [],
   "source": [
    "z = np.linspace(82,120,38)#11 8\n",
    "r = np.logspace(0,1,10000)\n",
    "E0 = 8.854187817*10e-12"
   ]
  },
  {
   "cell_type": "code",
   "execution_count": 67,
   "metadata": {},
   "outputs": [],
   "source": [
    "def radio(R0,A):\n",
    "    return R0*A**(1/3)"
   ]
  },
  {
   "cell_type": "code",
   "execution_count": 68,
   "metadata": {},
   "outputs": [
    {
     "data": {
      "text/plain": [
       "array([4.56170556, 4.58067129, 4.59948126, 4.61813863, 4.63664645,\n",
       "       4.65500768, 4.6732252 , 4.69130178, 4.70924012, 4.72704283,\n",
       "       4.74471244, 4.76225142, 4.77966215, 4.79694696, 4.81410809,\n",
       "       4.83114774, 4.84806802, 4.86487102, 4.88155874, 4.89813314,\n",
       "       4.91459612, 4.93094954, 4.94719519, 4.96333485, 4.97937022,\n",
       "       4.99530298, 5.01113473, 5.02686709, 5.04250157, 5.05803971,\n",
       "       5.07348296, 5.08883276, 5.10409052, 5.11925759, 5.13433533,\n",
       "       5.14932502, 5.16422795, 5.17904536])"
      ]
     },
     "execution_count": 68,
     "metadata": {},
     "output_type": "execute_result"
    }
   ],
   "source": [
    "R = radio(1.05,A)\n",
    "R"
   ]
  },
  {
   "cell_type": "code",
   "execution_count": 69,
   "metadata": {},
   "outputs": [],
   "source": [
    "def potencial(z,r):\n",
    "    v = 2*(z-2)*np.exp(2)/(4*np.pi*E0*r)\n",
    "    return v"
   ]
  },
  {
   "cell_type": "code",
   "execution_count": 70,
   "metadata": {},
   "outputs": [
    {
     "data": {
      "text/plain": [
       "array([[1.06255239e+12, 1.07619326e+12, 1.08983414e+12, ...,\n",
       "        1.53998302e+12, 1.55362390e+12, 1.56726477e+12],\n",
       "       [1.06230773e+12, 1.07594547e+12, 1.08958320e+12, ...,\n",
       "        1.53962844e+12, 1.55326617e+12, 1.56690390e+12],\n",
       "       [1.06206313e+12, 1.07569772e+12, 1.08933232e+12, ...,\n",
       "        1.53927393e+12, 1.55290852e+12, 1.56654312e+12],\n",
       "       ...,\n",
       "       [1.06304187e+11, 1.07668903e+11, 1.09033619e+11, ...,\n",
       "        1.54069245e+11, 1.55433961e+11, 1.56798677e+11],\n",
       "       [1.06279710e+11, 1.07644112e+11, 1.09008514e+11, ...,\n",
       "        1.54033769e+11, 1.55398171e+11, 1.56762573e+11],\n",
       "       [1.06255239e+11, 1.07619326e+11, 1.08983414e+11, ...,\n",
       "        1.53998302e+11, 1.55362390e+11, 1.56726477e+11]])"
      ]
     },
     "execution_count": 70,
     "metadata": {},
     "output_type": "execute_result"
    }
   ],
   "source": [
    "X, Y = np.meshgrid(z, r)\n",
    "V = potencial(X,Y)\n",
    "V"
   ]
  },
  {
   "cell_type": "code",
   "execution_count": 2,
   "metadata": {},
   "outputs": [
    {
     "ename": "NameError",
     "evalue": "name 'plt' is not defined",
     "output_type": "error",
     "traceback": [
      "\u001b[1;31m---------------------------------------------------------------------------\u001b[0m",
      "\u001b[1;31mNameError\u001b[0m                                 Traceback (most recent call last)",
      "Cell \u001b[1;32mIn[2], line 1\u001b[0m\n\u001b[1;32m----> 1\u001b[0m fig \u001b[39m=\u001b[39m plt\u001b[39m.\u001b[39mfigure(figsize\u001b[39m=\u001b[39m(\u001b[39m5\u001b[39m,\u001b[39m5\u001b[39m))\n\u001b[0;32m      2\u001b[0m ax \u001b[39m=\u001b[39m fig\u001b[39m.\u001b[39madd_subplot(\u001b[39m111\u001b[39m,projection\u001b[39m=\u001b[39m\u001b[39m'\u001b[39m\u001b[39m3d\u001b[39m\u001b[39m'\u001b[39m)\n\u001b[0;32m      3\u001b[0m ax\u001b[39m.\u001b[39mplot_surface(X,Y,V,cmap\u001b[39m=\u001b[39m\u001b[39m'\u001b[39m\u001b[39mcoolwarm\u001b[39m\u001b[39m'\u001b[39m)\n",
      "\u001b[1;31mNameError\u001b[0m: name 'plt' is not defined"
     ]
    }
   ],
   "source": [
    "fig = plt.figure(figsize=(5,5))\n",
    "ax = fig.add_subplot(111,projection='3d')\n",
    "ax.plot_surface(X,Y,V,cmap='coolwarm')\n"
   ]
  },
  {
   "cell_type": "code",
   "execution_count": 12,
   "metadata": {},
   "outputs": [
    {
     "name": "stdout",
     "output_type": "stream",
     "text": [
      "1.0119785895277761e-14\n"
     ]
    }
   ],
   "source": [
    "def neutrones(z):\n",
    "    n = -4*10*(-5)*z**3 + 0.0108*z**2 + 0.9251*z + 0.1832\n",
    "    return int(n)\n",
    "\n",
    "def binEnergy(z):\n",
    "  N = neutrones(z)\n",
    "  A = z + N\n",
    "  s = 0\n",
    "  if (N%2) == 1 and (z%2) == 1:\n",
    "    s = -33\n",
    "  elif (N%2) == 0 and (z%2) == 0:\n",
    "    s = 33\n",
    "\n",
    "  term1 = 14\n",
    "  term2 = - 13/(A**(1/3))\n",
    "  term3 = - (0.585*z**2)/(A**(4/3))\n",
    "  term4 = - (19.3*(N-z)**2)/(A**2)\n",
    "  term5 = s/(A**(7/4))\n",
    "  \n",
    "  E = A*(term1 + term2 + term3 + term4 + term5)*-10e-9\n",
    "\n",
    "  return E"
   ]
  },
  {
   "cell_type": "code",
   "execution_count": 1,
   "metadata": {},
   "outputs": [
    {
     "ename": "ModuleNotFoundError",
     "evalue": "No module named 'numpy'",
     "output_type": "error",
     "traceback": [
      "\u001b[1;31m---------------------------------------------------------------------------\u001b[0m",
      "\u001b[1;31mModuleNotFoundError\u001b[0m                       Traceback (most recent call last)",
      "Cell \u001b[1;32mIn[1], line 1\u001b[0m\n\u001b[1;32m----> 1\u001b[0m \u001b[39mimport\u001b[39;00m \u001b[39mnumpy\u001b[39;00m \u001b[39mas\u001b[39;00m \u001b[39mnp\u001b[39;00m\n\u001b[0;32m      2\u001b[0m \u001b[39mimport\u001b[39;00m \u001b[39mscipy\u001b[39;00m\u001b[39m.\u001b[39;00m\u001b[39mconstants\u001b[39;00m \u001b[39mas\u001b[39;00m \u001b[39msc\u001b[39;00m\n\u001b[0;32m      3\u001b[0m \u001b[39mimport\u001b[39;00m \u001b[39mmatplotlib\u001b[39;00m\u001b[39m.\u001b[39;00m\u001b[39mpyplot\u001b[39;00m \u001b[39mas\u001b[39;00m \u001b[39mplt\u001b[39;00m\n",
      "\u001b[1;31mModuleNotFoundError\u001b[0m: No module named 'numpy'"
     ]
    }
   ],
   "source": [
    "import numpy as np\n",
    "import scipy.constants as sc\n",
    "import matplotlib.pyplot as plt\n",
    "\n",
    "\n",
    "class QMfdtd:\n",
    "    def __init__(self, V0, bw, ke, sig):\n",
    "        self.V0 = V0 * sc.value('electron volt')  # height of potential barrier in Joules\n",
    "        self.ke = ke * sc.value('electron volt')  # kinetic energy of electron in Joules\n",
    "        self.k0 = np.sqrt(self.ke * 2 * sc.m_e / (sc.hbar ** 2))  # wave vector of electron in m^-1\n",
    "        self.bw = bw * sc.value('Angstrom star')  # potential barrier width in m\n",
    "        self.sig = sig * sc.value('Angstrom star')  # Initial spread of Gaussian wavefunction\n",
    "        self.dx = np.minimum((self.bw / 25.0), (self.sig / 25.0))  # grid cell size\n",
    "        self.dt = 0.9 * sc.hbar / ((sc.hbar ** 2 / (sc.m_e * self.dx ** 2)) + (self.V0 / 2.0))  # time step size\n",
    "        length = 40 * np.maximum(self.bw, self.sig)  # length of the simulation domain\n",
    "        self.ll = int(length / self.dx)  # total number of grid points in the domain\n",
    "        vel = sc.hbar * self.k0 / sc.m_e\n",
    "        self.tt = int(0.35 * length / vel / self.dt)  # total number of time steps in the simulation\n",
    "        self.lx = np.linspace(0.0, length, self.ll)  # 1D position vector along x\n",
    "        # potential barrier\n",
    "        self.Vx = np.zeros(self.ll)\n",
    "        bwgrid = int(self.bw / (2.0 * self.dx))\n",
    "        bposgrid = int(self.ll / 2.0)\n",
    "        bl = bposgrid - bwgrid\n",
    "        br = bposgrid + bwgrid\n",
    "        self.Vx[bl:br] = self.V0\n",
    "        # wavefunction arrays\n",
    "        self.psir = np.zeros((self.ll))\n",
    "        self.psii = np.zeros((self.ll))\n",
    "        self.psimag = np.zeros(self.ll)\n",
    "        ac = 1.0 / np.sqrt((np.sqrt(np.pi)) * self.sig)\n",
    "        x0 = bl * self.dx - 6 * self.sig\n",
    "        psigauss = ac * np.exp(-(self.lx - x0) ** 2 / (2.0 * self.sig ** 2))\n",
    "        self.psir = psigauss * np.cos(self.k0 * self.lx)\n",
    "        self.psii = psigauss * np.sin(self.k0 * self.lx)\n",
    "        self.psimag = self.psir ** 2 + self.psii ** 2\n",
    "        # fdtd update coefficients\n",
    "        self.c1 = sc.hbar * self.dt / (2.0 * sc.m_e * self.dx ** 2)\n",
    "        self.c2 = self.dt / sc.hbar\n",
    "\n",
    "    # The main FDTD update function.\n",
    "    def fdtd_update(self):\n",
    "        self.psii[1:self.ll - 1] = (self.c1 * (self.psir[2:self.ll] - 2.0 * self.psir[1:self.ll - 1]\n",
    "                                               + self.psir[0:self.ll - 2])\n",
    "                                    - self.c2 * self.Vx[1:self.ll - 1] * self.psir[1:self.ll - 1]\n",
    "                                    + self.psii[1:self.ll - 1])\n",
    "        self.psir[1:self.ll - 1] = (-self.c1 * (self.psii[2:self.ll] - 2.0 * self.psii[1:self.ll - 1]\n",
    "                                                + self.psii[0:self.ll - 2])\n",
    "                                    + self.c2 * self.Vx[1:self.ll - 1] * self.psii[1:self.ll - 1]\n",
    "                                    + self.psir[1:self.ll - 1])\n",
    "        self.psimag = self.psir ** 2 + self.psii ** 2\n",
    "\n",
    "\n",
    "def run_sim(V0_in, bw_in, ke_in, sig_in):\n",
    "    q1 = QMfdtd(V0_in, bw_in, ke_in, sig_in)\n",
    "    print('')\n",
    "    print('Potential barrier =', round(q1.V0 / sc.value('electron volt'), 2), 'eV')\n",
    "    print('Potential barrier width =', round(q1.bw / sc.value('Angstrom star'), 2), 'A')\n",
    "    print('(The boundary of the simulation domain is assumed to be an infinite barrier)')\n",
    "    print('Energy =', round(q1.ke / sc.value('electron volt'), 2), 'eV')\n",
    "    print('Spread =', round(q1.sig / sc.value('Angstrom star'), 2), 'A')\n",
    "    print('')\n",
    "    print('Grid size =', '%.2e' % (q1.dx / sc.value('Angstrom star')), 'A')\n",
    "    print('Time step =', \"%.2e\" % (q1.dt * 1e15), 'fs')\n",
    "    plt.ion()\n",
    "    fig0 = plt.figure()\n",
    "    ax0 = fig0.add_subplot(111)\n",
    "    ax0.set_xlabel('position ($\\AA$)')\n",
    "    ax0.set_ylabel('$\\Psi$')\n",
    "    ax0.set_title('Initial wavefunctions (normalized)')\n",
    "    ax0.plot(q1.lx / sc.value('Angstrom star'), q1.psimag / np.amax(q1.psimag), label='$|\\Psi|^2$')\n",
    "    ax0.plot(q1.lx / sc.value('Angstrom star'), q1.Vx / np.amax(q1.Vx), label='barrier')\n",
    "    ax0.plot(q1.lx / sc.value('Angstrom star'), q1.psii / np.amax(q1.psii), label='$\\Im[\\Psi]$', alpha=0.5)\n",
    "    ax0.plot(q1.lx / sc.value('Angstrom star'), q1.psir / np.amax(q1.psir), label='$\\Re[\\Psi]$', alpha=0.5)\n",
    "    ax0.legend()\n",
    "    fig0.show()\n",
    "    fig0.tight_layout()\n",
    "    fig0.canvas.draw()\n",
    "    fig1 = plt.figure()\n",
    "    ax1 = fig1.add_subplot(111)\n",
    "    ax1.set_xlabel('position ($\\AA$)')\n",
    "    ax1.set_ylabel('norm magnitude')\n",
    "    fig1.show()\n",
    "    fig1.canvas.draw()\n",
    "    for nn in range(0, q1.tt):\n",
    "        q1.fdtd_update()\n",
    "        if nn % 50 == 0:\n",
    "            tstr = 'Time = ' + str(round(nn * q1.dt * 1e15, 4)) + ' fs'\n",
    "            ax1.clear()\n",
    "            ax1.plot(q1.lx / sc.value('Angstrom star'), q1.psimag / np.amax(q1.psimag), label='$|\\Psi|^2$')\n",
    "            ax1.plot(q1.lx / sc.value('Angstrom star'), q1.Vx / np.amax(q1.Vx), label='barrier')\n",
    "            ax1.legend()\n",
    "            ax1.set_title(tstr)\n",
    "            ax1.set_xlabel('position ($\\AA$)')\n",
    "            ax1.set_ylabel('normalized magnitude')\n",
    "            fig1.canvas.draw()\n",
    "    fig2 = plt.figure()\n",
    "    ax2 = fig2.add_subplot(111)\n",
    "    ax2.set_xlabel('position ($\\AA$)')\n",
    "    ax2.set_ylabel('$\\Psi$')\n",
    "    ax2.set_title('Final wavefunctions (normalized)')\n",
    "    ax2.plot(q1.lx / sc.value('Angstrom star'), q1.psimag / np.amax(q1.psimag), label='$|\\Psi|^2$')\n",
    "    ax2.plot(q1.lx / sc.value('Angstrom star'), q1.Vx / np.amax(q1.Vx), label='barrier')\n",
    "    ax2.plot(q1.lx / sc.value('Angstrom star'), q1.psii / np.amax(q1.psii), label='$\\Im[\\Psi]$', alpha=0.5)\n",
    "    ax2.plot(q1.lx / sc.value('Angstrom star'), q1.psir / np.amax(q1.psir), label='$\\Re[\\Psi]$', alpha=0.5)\n",
    "    ax2.legend()\n",
    "    fig2.show()\n",
    "    fig2.tight_layout()\n",
    "    fig2.canvas.draw()\n",
    "\n",
    "    \n",
    "run_sim(264, 0.25, binEnergy(212), 0.8)"
   ]
  }
 ],
 "metadata": {
  "kernelspec": {
   "display_name": "Python 3",
   "language": "python",
   "name": "python3"
  },
  "language_info": {
   "codemirror_mode": {
    "name": "ipython",
    "version": 3
   },
   "file_extension": ".py",
   "mimetype": "text/x-python",
   "name": "python",
   "nbconvert_exporter": "python",
   "pygments_lexer": "ipython3",
   "version": "3.11.2"
  },
  "orig_nbformat": 4
 },
 "nbformat": 4,
 "nbformat_minor": 2
}
